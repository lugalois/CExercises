{
  "nbformat": 4,
  "nbformat_minor": 0,
  "metadata": {
    "colab": {
      "name": "IntegraciónNumerica.ipynb",
      "provenance": [],
      "include_colab_link": true
    },
    "kernelspec": {
      "name": "python3",
      "display_name": "Python 3"
    }
  },
  "cells": [
    {
      "cell_type": "markdown",
      "metadata": {
        "id": "view-in-github",
        "colab_type": "text"
      },
      "source": [
        "<a href=\"https://colab.research.google.com/github/lugalois/CExercises/blob/master/Integraci%C3%B3nNumerica.ipynb\" target=\"_parent\"><img src=\"https://colab.research.google.com/assets/colab-badge.svg\" alt=\"Open In Colab\"/></a>"
      ]
    },
    {
      "cell_type": "markdown",
      "metadata": {
        "id": "x46xoLvALnI-"
      },
      "source": [
        "#Menú Integración Numérica\n",
        "\n",
        "************ INDICACIONES DE USO ************\n",
        "\n",
        "- Ejecute primero el código de la sección módulos\n",
        "- Luego ejecute los demás códigos de las demás secciones en orden, desde \"Inicio Programa - Bienvenida\" hasta \"Lógica de programación\""
      ]
    },
    {
      "cell_type": "markdown",
      "metadata": {
        "id": "GckZc7OCMeDl"
      },
      "source": [
        "#Inicio Programa - Bienvenida\n",
        "En la siguiente celda se recopila los datos a procesar."
      ]
    },
    {
      "cell_type": "code",
      "metadata": {
        "id": "t-fViBAfLue9"
      },
      "source": [
        "def data():\n",
        "  fx=input(\"Ingrese la función:  f(x) = \")\n",
        "  x = symbols('x')\n",
        "  fx = lambdify(x, S(fx))\n",
        "  a=int(input(\"Extremo Inferior: \"))\n",
        "  b=int(input(\"Extremo Superior: \"))  \n",
        "  n=int(input(\"Número de Particiones (N): \"))\n",
        "  lista=[fx,a,b,n]\n",
        "  return lista"
      ],
      "execution_count": 5,
      "outputs": []
    },
    {
      "cell_type": "markdown",
      "metadata": {
        "id": "MdwtzWqrM2bU"
      },
      "source": [
        "La persona verá un menú de inicio, donde tiene diferentes opciones (A, B, C, D) según el cálculo que quiera realizar."
      ]
    },
    {
      "cell_type": "code",
      "metadata": {
        "colab": {
          "base_uri": "https://localhost:8080/"
        },
        "id": "9fUPyHnHNAM-",
        "outputId": "2e01d77d-15c6-4ba0-93d5-b921712f83cd"
      },
      "source": [
        "def print_welcome():\n",
        "  print(\"\\n\"+\"*\"*90)\n",
        "  print(\"*                               Menú integración Numérica                                *\".upper())\n",
        "  print(\"*\"*90)\n",
        "  print(\"*\"*90)\n",
        "  print('*(A)Valor \"Exacto\" de la integral                                                        *')\n",
        "  print('*(B)Aproximación por sumas superiores, inferiores, punto medio, a derecha y a izquierda. *')\n",
        "  print('*(C)Regla del Trapecio (Con error de estimación)                                         *')\n",
        "  print('*(D)Regla de Simpson (Con error de estimación)                                           *')\n",
        "  print('*(E)Parábola de Riemann                                                                  *')\n",
        "  print('*(F)Salir                                                                                *')\n",
        "  print(\"*\"*90)\n",
        "  print(\"\\n\")\n",
        "print_welcome()"
      ],
      "execution_count": 6,
      "outputs": [
        {
          "output_type": "stream",
          "text": [
            "\n",
            "******************************************************************************************\n",
            "*                               MENÚ INTEGRACIÓN NUMÉRICA                                *\n",
            "******************************************************************************************\n",
            "******************************************************************************************\n",
            "*(A)Valor \"Exacto\" de la integral                                                        *\n",
            "*(B)Aproximación por sumas superiores, inferiores, punto medio, a derecha y a izquierda. *\n",
            "*(C)Regla del Trapecio (Con error de estimación)                                         *\n",
            "*(D)Regla de Simpson (Con error de estimación)                                           *\n",
            "*(E)Parábola de Riemann                                                                  *\n",
            "*(F)Salir                                                                                *\n",
            "******************************************************************************************\n",
            "\n",
            "\n"
          ],
          "name": "stdout"
        }
      ]
    },
    {
      "cell_type": "markdown",
      "metadata": {
        "id": "qzyhIW8sRZUF"
      },
      "source": [
        "#Módulos\n",
        "\n",
        "\n",
        "> Para la realización del programa se utilizaron los siguientes módulos.\n",
        "\n"
      ]
    },
    {
      "cell_type": "code",
      "metadata": {
        "id": "q2CCNUf5RizW"
      },
      "source": [
        "from sympy import  S, symbols #modulos para str to function\n",
        "from sympy.utilities.lambdify import lambdify #modulos para str to function\n",
        "from matplotlib.patches import Polygon #GRAFICAS\n",
        "import numpy as np\n",
        "from scipy import integrate\n",
        "import matplotlib.pyplot as plt #GRAFICAS"
      ],
      "execution_count": 2,
      "outputs": []
    },
    {
      "cell_type": "markdown",
      "metadata": {
        "id": "RWwrwoLTR2fV"
      },
      "source": [
        "#Valor \"Exacto\" De La Integral\n",
        "En la siguiente celda de código se muestra como obtenemos el valor \"exacto\" de la integral usando el módulo scipy y la función quad()."
      ]
    },
    {
      "cell_type": "code",
      "metadata": {
        "id": "uBNjNbHLSBVT"
      },
      "source": [
        "def valueIntegral(fx,a,b):\n",
        "  integral = integrate.quad(fx,a,b)\n",
        "  return integral[0]"
      ],
      "execution_count": 7,
      "outputs": []
    },
    {
      "cell_type": "markdown",
      "metadata": {
        "id": "sJ6qaeAVSMKj"
      },
      "source": [
        "> Código de la representación visual de la integral; también se hace uso de esta función para graficar la integral por la regla de Simpson\n",
        "\n"
      ]
    },
    {
      "cell_type": "code",
      "metadata": {
        "id": "EQJqpeUoShs0"
      },
      "source": [
        "def integralGraphics(fx,a,b,l,N):\n",
        "  \n",
        "  x = np.linspace(a, b)\n",
        "    \n",
        "  \n",
        "  fig, ax = plt.subplots()\n",
        "  ax.plot(x, fx(x), 'b', linewidth=3)\n",
        "  ax.set_ylim(bottom=0)\n",
        "\n",
        "  # Region sombreada\n",
        "  ix = np.linspace(a, b)\n",
        "  iy = fx(ix)\n",
        "  verts = [(a, 0), *zip(ix, iy), (b, 0)]\n",
        "  poly = Polygon(verts, edgecolor='b', alpha=0.2)\n",
        "  ax.add_patch(poly)\n",
        "  \n",
        "  fig.text(0.9, 0.05, '$x$')\n",
        "  fig.text(0.1, 0.9, '$y$')\n",
        "\n",
        "  if l == \"a\":\n",
        "    plt.title('Representación visual de la integral')\n",
        "  else:\n",
        "    plt.title('Regla de Simpson, con N = {}'.format(N))\n",
        "\n",
        "  plt.show()"
      ],
      "execution_count": 8,
      "outputs": []
    },
    {
      "cell_type": "markdown",
      "metadata": {
        "id": "0plSyLhfSz4c"
      },
      "source": [
        "#Sumas de Riemann \n",
        "\n",
        "En la siguiente celda de código se grafica la aproximación de la integral por sumas superiores, inferiores, punto medio, a derecha y a izquierda."
      ]
    },
    {
      "cell_type": "code",
      "metadata": {
        "id": "64rhOOvKTX0D"
      },
      "source": [
        "def sRiemann(fx,a,b,N):\n",
        "  n = 10 \n",
        "  x = np.linspace(a,b,N+1)\n",
        "  y = fx(x)\n",
        "\n",
        "  X = np.linspace(a,b,n*N+1)\n",
        "  Y = fx(X)\n",
        "\n",
        "  plt.figure(figsize=(15,5))\n",
        "\n",
        "  plt.subplot(1,3,1)\n",
        "  plt.plot(X,Y,'b')\n",
        "  x_left = x[:-1]\n",
        "  y_left = y[:-1]\n",
        "  plt.plot(x_left,y_left,'b.',markersize=10)\n",
        "  plt.bar(x_left,y_left,width=(b-a)/N,alpha=0.2,align='edge',edgecolor='b')\n",
        "  plt.title('Suma de Riemann por Izquierda , N = {}'.format(N))  \n",
        "  plt.xlabel(\"Suma = {}\".format(riemannSum(fx,a,b,N,\"left\")))\n",
        "\n",
        "  plt.subplot(1,3,2)\n",
        "  plt.plot(X,Y,'b')\n",
        "  x_mid = (x[:-1] + x[1:])/2 \n",
        "  y_mid = fx(x_mid)\n",
        "  plt.plot(x_mid,y_mid,'b.',markersize=10)\n",
        "  plt.bar(x_mid,y_mid,width=(b-a)/N,alpha=0.2,edgecolor='b')\n",
        "  plt.title('Suma de Riemann Punto Medio, N = {}'.format(N))\n",
        "  plt.xlabel(\"Suma = {} \".format(riemannSum(fx,a,b,N,\"right\")))\n",
        "\n",
        "  plt.subplot(1,3,3)\n",
        "  plt.plot(X,Y,'b')\n",
        "  x_right = x[1:] \n",
        "  y_right = y[1:]\n",
        "  plt.plot(x_right,y_right,'b.',markersize=10)\n",
        "  plt.bar(x_right,y_right,width=-(b-a)/N,alpha=0.2,align='edge',edgecolor='b')\n",
        "  plt.title('Suma de Riemann por Derecha, N = {}'.format(N))\n",
        "  plt.xlabel(\"Suma = {}\".format(riemannSum(fx,a,b,N,\"midpoint\")))\n",
        "\n",
        "  plt.show()"
      ],
      "execution_count": 9,
      "outputs": []
    },
    {
      "cell_type": "markdown",
      "metadata": {
        "id": "n7zV2aRNqSXR"
      },
      "source": [
        "\n",
        "\n",
        "> Calculo de sumas de Riemann\n",
        "\n"
      ]
    },
    {
      "cell_type": "code",
      "metadata": {
        "id": "Hbr86z7cqaVr"
      },
      "source": [
        "def riemannSum(fx,a,b,N,method):\n",
        "  dx = (b - a)/N\n",
        "  x = np.linspace(a,b,N+1)\n",
        "\n",
        "  if method == 'left':\n",
        "      x_left = x[:-1]\n",
        "      return np.sum(fx(x_left)*dx)\n",
        "  elif method == 'right':\n",
        "      x_right = x[1:]\n",
        "      return np.sum(fx(x_right)*dx)\n",
        "  elif method == 'midpoint':\n",
        "      x_mid = (x[:-1] + x[1:])/2\n",
        "      return np.sum(fx(x_mid)*dx)"
      ],
      "execution_count": 10,
      "outputs": []
    },
    {
      "cell_type": "markdown",
      "metadata": {
        "id": "n1HpJh_sU0lM"
      },
      "source": [
        "#Regla del Trapecio (Con error de estimación)"
      ]
    },
    {
      "cell_type": "markdown",
      "metadata": {
        "id": "cUysugExVUW-"
      },
      "source": [
        "\n",
        "> Valor aproximado regla del trapecio\n",
        "\n"
      ]
    },
    {
      "cell_type": "code",
      "metadata": {
        "id": "rXD1iWrXVbvr"
      },
      "source": [
        "def t_n(fx,a,b,n):\n",
        "  x = np.linspace(a,b,n+1) \n",
        "  y = fx(x)\n",
        "  y_right = y[1:] \n",
        "  y_left = y[:-1]\n",
        "  dx = (b - a)/n\n",
        "  T = (dx/2) * np.sum(y_right + y_left)\n",
        "  return T"
      ],
      "execution_count": 11,
      "outputs": []
    },
    {
      "cell_type": "markdown",
      "metadata": {
        "id": "AJJvtjAJV3rU"
      },
      "source": [
        "> Grafica regla del trapecio y su valor"
      ]
    },
    {
      "cell_type": "code",
      "metadata": {
        "id": "6zqTFJTlWA0H"
      },
      "source": [
        "def graphicRt(fx,a,b,N):\n",
        "  fig, ax = plt.subplots()\n",
        "  x = np.linspace(a,b,N+1)\n",
        "  \n",
        "  X = np.linspace(a,b,100)\n",
        "  Y = fx(X)\n",
        "  plt.plot(X,Y)\n",
        "\n",
        "  for i in range(N):\n",
        "      xs = [x[i],x[i],x[i+1],x[i+1]]\n",
        "      ys = [0,fx(x[i]),fx(x[i+1]),0]\n",
        "      plt.fill(xs,ys,edgecolor='k',alpha=0.9,linewidth=4)\n",
        "  \n",
        "  fig.text(0.9, 0.05, '$x$')\n",
        "  fig.text(0.1, 0.9, '$y$')\n",
        "  \n",
        "  plt.title('Regla del trapecio, con N = {}'.format(N))\n",
        "  plt.show()\n",
        "\n",
        "  print(f\"El valor de la integral por la regla del trapecio es T_{N} = {t_n(fx,a,b,N)}\")"
      ],
      "execution_count": 12,
      "outputs": []
    },
    {
      "cell_type": "markdown",
      "metadata": {
        "id": "NSVN6kJNXNAL"
      },
      "source": [
        "\n",
        "\n",
        "> Error de estimación regla del trapecio\n",
        "\n"
      ]
    },
    {
      "cell_type": "code",
      "metadata": {
        "id": "WxoSx9TjXfNa"
      },
      "source": [
        "def estimationErrorRt(fx,a,b,n):\n",
        "  I= (t_n(fx,a,b,n)- valueIntegral(fx,a,b))/valueIntegral(fx,a,b)\n",
        "  print(f\"Error de estimación: {np.abs(I - t_n(fx,a,b,n))}\")"
      ],
      "execution_count": 13,
      "outputs": []
    },
    {
      "cell_type": "markdown",
      "metadata": {
        "id": "6ZXXnkXYAyNV"
      },
      "source": [
        "#Regla de Simpson (Con error de estimación)\n",
        "Valor de la integral usando la regla de Simpson."
      ]
    },
    {
      "cell_type": "code",
      "metadata": {
        "id": "nxlbABgWA11r"
      },
      "source": [
        "def simpsRule(f,a,b,N):\n",
        "  if N % 2 == 1:\n",
        "    print(\"N debe ser un entero par\")\n",
        "  dx = (b-a)/N\n",
        "  x = np.linspace(a,b,N+1)\n",
        "  y = f(x)\n",
        "  S = dx/3 * np.sum(y[0:-1:2] + 4*y[1::2] + y[2::2])\n",
        "  return S"
      ],
      "execution_count": 14,
      "outputs": []
    },
    {
      "cell_type": "markdown",
      "metadata": {
        "id": "9uTdtAxACpv6"
      },
      "source": [
        "> Error de estimación regla de Simpson"
      ]
    },
    {
      "cell_type": "code",
      "metadata": {
        "id": "H-1fqu5vIXjJ"
      },
      "source": [
        "def estimationErrorRs(fx,a,b,n):\n",
        "  I= np.abs(valueIntegral(fx,a,b)-simpsRule(fx,a,b,n))\n",
        "  print(f\"Error de estimación: {I}\")"
      ],
      "execution_count": 15,
      "outputs": []
    },
    {
      "cell_type": "markdown",
      "metadata": {
        "id": "cFD6BiPSl2zX"
      },
      "source": [
        "#Parábola de Simpson\n",
        "\n",
        "Gráfica la parábola de Riemann."
      ]
    },
    {
      "cell_type": "code",
      "metadata": {
        "id": "LTcp8qXjl_Og"
      },
      "source": [
        "def  riemannP(fx):\n",
        "  fig, ax = plt.subplots()\n",
        "\n",
        "  plt.axhline(0, color=\"black\")\n",
        "  plt.axvline(0, color=\"black\")\n",
        "\n",
        "  x=np.arange(-10,10,0.01)\n",
        "\n",
        "  plt.plot(x,fx(x),'-b')\n",
        "  fig.text(0.9, 0.05, '$x$')\n",
        "  fig.text(0.1, 0.9, '$y$')\n",
        "  plt.title('Parábola de Riemann')\n",
        "  plt.show()"
      ],
      "execution_count": 16,
      "outputs": []
    },
    {
      "cell_type": "markdown",
      "metadata": {
        "id": "JTnVgzWoYMRz"
      },
      "source": [
        "# Lógica del Programa\n",
        "\n",
        "La siguiente celda de código muestra como es el flujo del programa, llamando a cada una de las funciones anteriormente definidas."
      ]
    },
    {
      "cell_type": "code",
      "metadata": {
        "id": "umctdl_YYVKD",
        "colab": {
          "base_uri": "https://localhost:8080/",
          "height": 1000
        },
        "outputId": "934805ac-a229-4465-93cf-e6e53f7ea312"
      },
      "source": [
        "init = 0\n",
        "while True:\n",
        "  if init == 0:\n",
        "    li = data()\n",
        "    init = 1\n",
        "  print_welcome()\n",
        "  option = input(\"Opcion: \")\n",
        "  if option.upper() in [\"A\",\"B\",\"C\",\"D\",\"E\",\"F\"]:\n",
        "    if option.upper()== \"A\":      \n",
        "      print(f'\\n Valor \"Exacto\" de la Integral es: {valueIntegral(li[0],li[1],li[2])}')\n",
        "      integralGraphics(li[0],li[1],li[2],\"a\",li[3])\n",
        "    elif option.upper()== \"B\":\n",
        "      print(\"\\n\")\n",
        "      sRiemann(li[0],li[1],li[2],li[3])\n",
        "    elif option.upper()== \"C\":\n",
        "      print(\"\\n\")\n",
        "      graphicRt(li[0],li[1],li[2],li[3])\n",
        "      estimationErrorRt(li[0],li[1],li[2],li[3])\n",
        "    elif option.upper()== \"D\":\n",
        "      print(\"\\n\")\n",
        "      integralGraphics(li[0],li[1],li[2],\"b\",li[3])\n",
        "      print(f'El valor de la integral por la regla de Simpson es: {simpsRule(li[0],li[1],li[2],li[3])}')\n",
        "      estimationErrorRs(li[0],li[1],li[2],li[3])\n",
        "    elif option.upper()== \"E\":\n",
        "      print(\"\\n\")\n",
        "      riemannP(li[0])\n",
        "    elif option.upper()== \"F\":\n",
        "      print(\"Programa finalizado\")\n",
        "      break\n",
        "  else:\n",
        "    print(\"Opción no válida.\")\n",
        "    continue"
      ],
      "execution_count": 17,
      "outputs": [
        {
          "output_type": "stream",
          "text": [
            "Ingrese la función:  f(x) = x^2\n",
            "Extremo Inferior: 3\n",
            "Extremo Superior: 10\n",
            "Número de Particiones (N): 4\n",
            "\n",
            "******************************************************************************************\n",
            "*                               MENÚ INTEGRACIÓN NUMÉRICA                                *\n",
            "******************************************************************************************\n",
            "******************************************************************************************\n",
            "*(A)Valor \"Exacto\" de la integral                                                        *\n",
            "*(B)Aproximación por sumas superiores, inferiores, punto medio, a derecha y a izquierda. *\n",
            "*(C)Regla del Trapecio (Con error de estimación)                                         *\n",
            "*(D)Regla de Simpson (Con error de estimación)                                           *\n",
            "*(E)Parábola de Riemann                                                                  *\n",
            "*(F)Salir                                                                                *\n",
            "******************************************************************************************\n",
            "\n",
            "\n",
            "Opcion: a\n",
            "\n",
            " Valor \"Exacto\" de la Integral es: 324.33333333333337\n"
          ],
          "name": "stdout"
        },
        {
          "output_type": "display_data",
          "data": {
            "image/png": "[encoded data removed]",
            "text/plain": [
              "<Figure size 432x288 with 1 Axes>"
            ]
          },
          "metadata": {
            "tags": [],
            "needs_background": "light"
          }
        },
        {
          "output_type": "stream",
          "text": [
            "\n",
            "******************************************************************************************\n",
            "*                               MENÚ INTEGRACIÓN NUMÉRICA                                *\n",
            "******************************************************************************************\n",
            "******************************************************************************************\n",
            "*(A)Valor \"Exacto\" de la integral                                                        *\n",
            "*(B)Aproximación por sumas superiores, inferiores, punto medio, a derecha y a izquierda. *\n",
            "*(C)Regla del Trapecio (Con error de estimación)                                         *\n",
            "*(D)Regla de Simpson (Con error de estimación)                                           *\n",
            "*(E)Parábola de Riemann                                                                  *\n",
            "*(F)Salir                                                                                *\n",
            "******************************************************************************************\n",
            "\n",
            "\n",
            "Opcion: B\n",
            "\n",
            "\n"
          ],
          "name": "stdout"
        },
        {
          "output_type": "display_data",
          "data": {
            "image/png": "[encoded data removed]",
            "text/plain": [
              "<Figure size 1080x360 with 3 Axes>"
            ]
          },
          "metadata": {
            "tags": [],
            "needs_background": "light"
          }
        },
        {
          "output_type": "stream",
          "text": [
            "\n",
            "******************************************************************************************\n",
            "*                               MENÚ INTEGRACIÓN NUMÉRICA                                *\n",
            "******************************************************************************************\n",
            "******************************************************************************************\n",
            "*(A)Valor \"Exacto\" de la integral                                                        *\n",
            "*(B)Aproximación por sumas superiores, inferiores, punto medio, a derecha y a izquierda. *\n",
            "*(C)Regla del Trapecio (Con error de estimación)                                         *\n",
            "*(D)Regla de Simpson (Con error de estimación)                                           *\n",
            "*(E)Parábola de Riemann                                                                  *\n",
            "*(F)Salir                                                                                *\n",
            "******************************************************************************************\n",
            "\n",
            "\n",
            "Opcion: c\n",
            "\n",
            "\n"
          ],
          "name": "stdout"
        },
        {
          "output_type": "display_data",
          "data": {
            "image/png": "[encoded data removed]",
            "text/plain": [
              "<Figure size 432x288 with 1 Axes>"
            ]
          },
          "metadata": {
            "tags": [],
            "needs_background": "light"
          }
        },
        {
          "output_type": "stream",
          "text": [
            "El valor de la integral por la regla del trapecio es T_4 = 327.90625\n",
            "Error de estimación: 327.89523381294964\n",
            "\n",
            "******************************************************************************************\n",
            "*                               MENÚ INTEGRACIÓN NUMÉRICA                                *\n",
            "******************************************************************************************\n",
            "******************************************************************************************\n",
            "*(A)Valor \"Exacto\" de la integral                                                        *\n",
            "*(B)Aproximación por sumas superiores, inferiores, punto medio, a derecha y a izquierda. *\n",
            "*(C)Regla del Trapecio (Con error de estimación)                                         *\n",
            "*(D)Regla de Simpson (Con error de estimación)                                           *\n",
            "*(E)Parábola de Riemann                                                                  *\n",
            "*(F)Salir                                                                                *\n",
            "******************************************************************************************\n",
            "\n",
            "\n",
            "Opcion: D\n",
            "\n",
            "\n"
          ],
          "name": "stdout"
        },
        {
          "output_type": "display_data",
          "data": {
            "image/png": "[encoded data removed]",
            "text/plain": [
              "<Figure size 432x288 with 1 Axes>"
            ]
          },
          "metadata": {
            "tags": [],
            "needs_background": "light"
          }
        },
        {
          "output_type": "stream",
          "text": [
            "El valor de la integral por la regla de Simpson es: 324.33333333333337\n",
            "Error de estimación: 0.0\n",
            "\n",
            "******************************************************************************************\n",
            "*                               MENÚ INTEGRACIÓN NUMÉRICA                                *\n",
            "******************************************************************************************\n",
            "******************************************************************************************\n",
            "*(A)Valor \"Exacto\" de la integral                                                        *\n",
            "*(B)Aproximación por sumas superiores, inferiores, punto medio, a derecha y a izquierda. *\n",
            "*(C)Regla del Trapecio (Con error de estimación)                                         *\n",
            "*(D)Regla de Simpson (Con error de estimación)                                           *\n",
            "*(E)Parábola de Riemann                                                                  *\n",
            "*(F)Salir                                                                                *\n",
            "******************************************************************************************\n",
            "\n",
            "\n",
            "Opcion: e\n",
            "\n",
            "\n"
          ],
          "name": "stdout"
        },
        {
          "output_type": "display_data",
          "data": {
            "image/png": "[encoded data removed]",
            "text/plain": [
              "<Figure size 432x288 with 1 Axes>"
            ]
          },
          "metadata": {
            "tags": [],
            "needs_background": "light"
          }
        },
        {
          "output_type": "stream",
          "text": [
            "\n",
            "******************************************************************************************\n",
            "*                               MENÚ INTEGRACIÓN NUMÉRICA                                *\n",
            "******************************************************************************************\n",
            "******************************************************************************************\n",
            "*(A)Valor \"Exacto\" de la integral                                                        *\n",
            "*(B)Aproximación por sumas superiores, inferiores, punto medio, a derecha y a izquierda. *\n",
            "*(C)Regla del Trapecio (Con error de estimación)                                         *\n",
            "*(D)Regla de Simpson (Con error de estimación)                                           *\n",
            "*(E)Parábola de Riemann                                                                  *\n",
            "*(F)Salir                                                                                *\n",
            "******************************************************************************************\n",
            "\n",
            "\n",
            "Opcion: f\n",
            "Programa finalizado\n"
          ],
          "name": "stdout"
        }
      ]
    }
  ]
}